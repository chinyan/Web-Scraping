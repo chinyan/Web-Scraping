{
  "nbformat": 4,
  "nbformat_minor": 0,
  "metadata": {
    "colab": {
      "name": "scraper.ipynb",
      "version": "0.3.2",
      "provenance": [],
      "collapsed_sections": []
    },
    "kernelspec": {
      "name": "python3",
      "display_name": "Python 3"
    }
  },
  "cells": [
    {
      "metadata": {
        "id": "CWyHfnvlCMrW",
        "colab_type": "code",
        "colab": {
          "base_uri": "https://localhost:8080/",
          "height": 170
        },
        "outputId": "f236e655-0afb-4682-f9a6-d57873f5c55b"
      },
      "cell_type": "code",
      "source": [
        "!pip install bs4"
      ],
      "execution_count": 1,
      "outputs": [
        {
          "output_type": "stream",
          "text": [
            "Collecting bs4\n",
            "  Downloading https://files.pythonhosted.org/packages/10/ed/7e8b97591f6f456174139ec089c769f89a94a1a4025fe967691de971f314/bs4-0.0.1.tar.gz\n",
            "Requirement already satisfied: beautifulsoup4 in /usr/local/lib/python3.6/dist-packages (from bs4) (4.6.0)\n",
            "Building wheels for collected packages: bs4\n",
            "  Running setup.py bdist_wheel for bs4 ... \u001b[?25l-\b \bdone\n",
            "\u001b[?25h  Stored in directory: /content/.cache/pip/wheels/a0/b0/b2/4f80b9456b87abedbc0bf2d52235414c3467d8889be38dd472\n",
            "Successfully built bs4\n",
            "Installing collected packages: bs4\n",
            "Successfully installed bs4-0.0.1\n"
          ],
          "name": "stdout"
        }
      ]
    },
    {
      "metadata": {
        "id": "OgbDrRIjBuPA",
        "colab_type": "code",
        "colab": {}
      },
      "cell_type": "code",
      "source": [
        "from bs4 import BeautifulSoup\n",
        "import requests\n",
        "import pandas as pd"
      ],
      "execution_count": 0,
      "outputs": []
    },
    {
      "metadata": {
        "id": "gt1okoOg0oi_",
        "colab_type": "code",
        "colab": {
          "resources": {
            "http://localhost:8080/nbextensions/google.colab/files.js": {
              "data": "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",
              "ok": true,
              "headers": [
                [
                  "content-type",
                  "application/javascript"
                ]
              ],
              "status": 200,
              "status_text": ""
            }
          },
          "base_uri": "https://localhost:8080/",
          "height": 109
        },
        "outputId": "03274da2-cf63-45ce-8002-2cb50dc37e6e"
      },
      "cell_type": "code",
      "source": [
        "from google.colab import files\n",
        "files.upload()"
      ],
      "execution_count": 3,
      "outputs": [
        {
          "output_type": "display_data",
          "data": {
            "text/html": [
              "\n",
              "     <input type=\"file\" id=\"files-3a8b6103-23c9-41c8-b1de-56f527bdf5ae\" name=\"files[]\" multiple disabled />\n",
              "     <output id=\"result-3a8b6103-23c9-41c8-b1de-56f527bdf5ae\">\n",
              "      Upload widget is only available when the cell has been executed in the\n",
              "      current browser session. Please rerun this cell to enable.\n",
              "      </output>\n",
              "      <script src=\"/nbextensions/google.colab/files.js\"></script> "
            ],
            "text/plain": [
              "<IPython.core.display.HTML object>"
            ]
          },
          "metadata": {
            "tags": []
          }
        },
        {
          "output_type": "stream",
          "text": [
            "Saving data.csv to data.csv\n"
          ],
          "name": "stdout"
        },
        {
          "output_type": "execute_result",
          "data": {
            "text/plain": [
              "{'data.csv': b'\\xef\\xbb\\xbfS.No:,Official Website\\r\\n1,https://www.24k.com.sg/\\r\\n2,https://www.2c2p.com/\\r\\n3,https://www.701search.com/\\r\\n4,https://www.acc-pro.com.sg/\\r\\n5,https://www.acclivis.com.sg/\\r\\n6,https://www.acpcomputer.edu.sg/\\r\\n7,https://active.ai/\\r\\n8,http://www.aghrm.com/\\r\\n9,https://www.allscripts.com/\\r\\n10,https://www.aly.com.sg/\\r\\n11,https://www.anritsu.com/\\r\\n12,https://www.appway.com/\\r\\n13,https://www.hrboss.com/\\r\\n14,https://www.arkema.com/en/\\r\\n15,https://www.allgodigital.com/\\r\\n16,https://www.andrecorpl.com/\\r\\n17,http://www.i-sprint.com/\\r\\n18,https://www.shopback.sg/\\r\\n19,https://senseinfosys.com/\\r\\n20,https://www.tagitmobile.com/\\r\\n21,https://tookitaki.com/about/\\r\\n22,https://www.trakomatic.com/\\r\\n23,https://www.v3smarttech.com/\\r\\n24,https://www.videosmart.com/\\r\\n25,http://www.80twenty.com.sg/\\r\\n26,http://a2000erp.com/\\r\\n27,http://www.abs-pos.com/\\r\\n28,http://www.accvisory.com/\\r\\n29,http://adelphi.digital/\\r\\n30,http://ademcosecurity.com/en-sg/\\r\\n31,http://anbgroup.com/\\r\\n32,http://www.amc.com.sg/\\r\\n33,http://ait.sg/\\r\\n34,https://alenuitbusinesssolutions.wordpress.com/\\r\\n35,http://alignedbiz.com/\\r\\n36,http://amashub.com/\\r\\n37,http://www.amaxsystem.com/\\r\\n38,http://www.anewtech.net/\\r\\n39,http://www.applica.asia/\\r\\n40,https://finaccel.co/\\r\\n'}"
            ]
          },
          "metadata": {
            "tags": []
          },
          "execution_count": 3
        }
      ]
    },
    {
      "metadata": {
        "id": "99aeBw2K1aZc",
        "colab_type": "code",
        "colab": {
          "base_uri": "https://localhost:8080/",
          "height": 680
        },
        "outputId": "a76179b8-6632-4e93-a868-d9e2aab78215"
      },
      "cell_type": "code",
      "source": [
        "data = pd.read_csv('data.csv')\n",
        "article_urls = data['Official Website'].tolist()\n",
        "\n",
        "# remove not secure website from the list\n",
        "article_urls.remove('https://www.acclivis.com.sg/')\n",
        "article_urls"
      ],
      "execution_count": 69,
      "outputs": [
        {
          "output_type": "execute_result",
          "data": {
            "text/plain": [
              "['https://www.24k.com.sg/',\n",
              " 'https://www.2c2p.com/',\n",
              " 'https://www.701search.com/',\n",
              " 'https://www.acc-pro.com.sg/',\n",
              " 'https://www.acpcomputer.edu.sg/',\n",
              " 'https://active.ai/',\n",
              " 'http://www.aghrm.com/',\n",
              " 'https://www.allscripts.com/',\n",
              " 'https://www.aly.com.sg/',\n",
              " 'https://www.anritsu.com/',\n",
              " 'https://www.appway.com/',\n",
              " 'https://www.hrboss.com/',\n",
              " 'https://www.arkema.com/en/',\n",
              " 'https://www.allgodigital.com/',\n",
              " 'https://www.andrecorpl.com/',\n",
              " 'http://www.i-sprint.com/',\n",
              " 'https://www.shopback.sg/',\n",
              " 'https://senseinfosys.com/',\n",
              " 'https://www.tagitmobile.com/',\n",
              " 'https://tookitaki.com/about/',\n",
              " 'https://www.trakomatic.com/',\n",
              " 'https://www.v3smarttech.com/',\n",
              " 'https://www.videosmart.com/',\n",
              " 'http://www.80twenty.com.sg/',\n",
              " 'http://a2000erp.com/',\n",
              " 'http://www.abs-pos.com/',\n",
              " 'http://www.accvisory.com/',\n",
              " 'http://adelphi.digital/',\n",
              " 'http://ademcosecurity.com/en-sg/',\n",
              " 'http://anbgroup.com/',\n",
              " 'http://www.amc.com.sg/',\n",
              " 'http://ait.sg/',\n",
              " 'https://alenuitbusinesssolutions.wordpress.com/',\n",
              " 'http://alignedbiz.com/',\n",
              " 'http://amashub.com/',\n",
              " 'http://www.amaxsystem.com/',\n",
              " 'http://www.anewtech.net/',\n",
              " 'http://www.applica.asia/',\n",
              " 'https://finaccel.co/']"
            ]
          },
          "metadata": {
            "tags": []
          },
          "execution_count": 69
        }
      ]
    },
    {
      "metadata": {
        "id": "BHRsHo-Ggzt_",
        "colab_type": "code",
        "colab": {}
      },
      "cell_type": "code",
      "source": [
        "def email(url):\n",
        "    response = requests.get(url)\n",
        "    html = response.text\n",
        "    soup = BeautifulSoup(html, 'html.parser')\n",
        "    data = {}\n",
        "    mail = []\n",
        "    \n",
        "    for c in soup.find_all('a'):\n",
        "        if '@' in str(c.string) and '.' in str(c.string):\n",
        "            mail.append(c.string)\n",
        "    return mail   "
      ],
      "execution_count": 0,
      "outputs": []
    },
    {
      "metadata": {
        "id": "L7XPY083rM3z",
        "colab_type": "code",
        "colab": {}
      },
      "cell_type": "code",
      "source": [
        "def contact(url):\n",
        "    response = requests.get(url)\n",
        "    html = response.text\n",
        "    soup = BeautifulSoup(html, 'html.parser')\n",
        "    data = {}\n",
        "    link = []\n",
        "    mail = []\n",
        "    \n",
        "    for c in soup.find_all('a'):\n",
        "        if c.string == 'Contact' or c.string == 'Contact Us':\n",
        "            if c.get('href')==None:\n",
        "                continue\n",
        "            \n",
        "            if 'http' in c.get('href'):\n",
        "                link.append(c.get('href'))\n",
        "            else:\n",
        "                link.append(url+ (c.get('href')[1:] if c.get('href')[0]=='/' else c.get('href')))\n",
        "    \n",
        "\n",
        "    for k in set(link):\n",
        "        mail.append(email(k))\n",
        "        \n",
        "    \n",
        "    data['Name'] = url\n",
        "    data['Contact'] = set(link)\n",
        "    data['Email'] = set(item for sublist in mail for item in sublist)\n",
        "    return data"
      ],
      "execution_count": 0,
      "outputs": []
    },
    {
      "metadata": {
        "id": "l_D5gwOIKfLh",
        "colab_type": "code",
        "colab": {
          "base_uri": "https://localhost:8080/",
          "height": 680
        },
        "outputId": "47bf1b8d-b8b0-46e8-ba82-b25fcad73a7c"
      },
      "cell_type": "code",
      "source": [
        "article_datas = []\n",
        "index = 0\n",
        "\n",
        "for url in article_urls:\n",
        "    print(f'{index}. Downloading details from {url}')\n",
        "    article_datas.append(contact(url))\n",
        "    index = index + 1"
      ],
      "execution_count": 179,
      "outputs": [
        {
          "output_type": "stream",
          "text": [
            "0. Downloading details from https://www.24k.com.sg/\n",
            "1. Downloading details from https://www.2c2p.com/\n",
            "2. Downloading details from https://www.701search.com/\n",
            "3. Downloading details from https://www.acc-pro.com.sg/\n",
            "4. Downloading details from https://www.acpcomputer.edu.sg/\n",
            "5. Downloading details from https://active.ai/\n",
            "6. Downloading details from http://www.aghrm.com/\n",
            "7. Downloading details from https://www.allscripts.com/\n",
            "8. Downloading details from https://www.aly.com.sg/\n",
            "9. Downloading details from https://www.anritsu.com/\n",
            "10. Downloading details from https://www.appway.com/\n",
            "11. Downloading details from https://www.hrboss.com/\n",
            "12. Downloading details from https://www.arkema.com/en/\n",
            "13. Downloading details from https://www.allgodigital.com/\n",
            "14. Downloading details from https://www.andrecorpl.com/\n",
            "15. Downloading details from http://www.i-sprint.com/\n",
            "16. Downloading details from https://www.shopback.sg/\n",
            "17. Downloading details from https://senseinfosys.com/\n",
            "18. Downloading details from https://www.tagitmobile.com/\n",
            "19. Downloading details from https://tookitaki.com/about/\n",
            "20. Downloading details from https://www.trakomatic.com/\n",
            "21. Downloading details from https://www.v3smarttech.com/\n",
            "22. Downloading details from https://www.videosmart.com/\n",
            "23. Downloading details from http://www.80twenty.com.sg/\n",
            "24. Downloading details from http://a2000erp.com/\n",
            "25. Downloading details from http://www.abs-pos.com/\n",
            "26. Downloading details from http://www.accvisory.com/\n",
            "27. Downloading details from http://adelphi.digital/\n",
            "28. Downloading details from http://ademcosecurity.com/en-sg/\n",
            "29. Downloading details from http://anbgroup.com/\n",
            "30. Downloading details from http://www.amc.com.sg/\n",
            "31. Downloading details from http://ait.sg/\n",
            "32. Downloading details from https://alenuitbusinesssolutions.wordpress.com/\n",
            "33. Downloading details from http://alignedbiz.com/\n",
            "34. Downloading details from http://amashub.com/\n",
            "35. Downloading details from http://www.amaxsystem.com/\n",
            "36. Downloading details from http://www.anewtech.net/\n",
            "37. Downloading details from http://www.applica.asia/\n",
            "38. Downloading details from https://finaccel.co/\n"
          ],
          "name": "stdout"
        }
      ]
    },
    {
      "metadata": {
        "id": "fddM87K4FSf0",
        "colab_type": "code",
        "colab": {
          "base_uri": "https://localhost:8080/",
          "height": 204
        },
        "outputId": "8202d3fd-af5f-4c01-88b6-c24638d3f505"
      },
      "cell_type": "code",
      "source": [
        "df = pd.DataFrame(article_datas)\n",
        "df.head()"
      ],
      "execution_count": 181,
      "outputs": [
        {
          "output_type": "execute_result",
          "data": {
            "text/html": [
              "<div>\n",
              "<style scoped>\n",
              "    .dataframe tbody tr th:only-of-type {\n",
              "        vertical-align: middle;\n",
              "    }\n",
              "\n",
              "    .dataframe tbody tr th {\n",
              "        vertical-align: top;\n",
              "    }\n",
              "\n",
              "    .dataframe thead th {\n",
              "        text-align: right;\n",
              "    }\n",
              "</style>\n",
              "<table border=\"1\" class=\"dataframe\">\n",
              "  <thead>\n",
              "    <tr style=\"text-align: right;\">\n",
              "      <th></th>\n",
              "      <th>Contact</th>\n",
              "      <th>Email</th>\n",
              "      <th>Name</th>\n",
              "    </tr>\n",
              "  </thead>\n",
              "  <tbody>\n",
              "    <tr>\n",
              "      <th>0</th>\n",
              "      <td>{https://www.24k.com.sg/contact-us.php}</td>\n",
              "      <td>{info@24k.com.sg}</td>\n",
              "      <td>https://www.24k.com.sg/</td>\n",
              "    </tr>\n",
              "    <tr>\n",
              "      <th>1</th>\n",
              "      <td>{https://www.2c2p.com/contact.aspx}</td>\n",
              "      <td>{}</td>\n",
              "      <td>https://www.2c2p.com/</td>\n",
              "    </tr>\n",
              "    <tr>\n",
              "      <th>2</th>\n",
              "      <td>{https://www.701search.com/contact-us/}</td>\n",
              "      <td>{}</td>\n",
              "      <td>https://www.701search.com/</td>\n",
              "    </tr>\n",
              "    <tr>\n",
              "      <th>3</th>\n",
              "      <td>{https://www.acc-pro.com.sg/index.php/contact}</td>\n",
              "      <td>{}</td>\n",
              "      <td>https://www.acc-pro.com.sg/</td>\n",
              "    </tr>\n",
              "    <tr>\n",
              "      <th>4</th>\n",
              "      <td>{https://www.acpcomputer.edu.sg/index.php/gene...</td>\n",
              "      <td>{dpo@acpcomputer.edu.sg}</td>\n",
              "      <td>https://www.acpcomputer.edu.sg/</td>\n",
              "    </tr>\n",
              "  </tbody>\n",
              "</table>\n",
              "</div>"
            ],
            "text/plain": [
              "                                             Contact  \\\n",
              "0            {https://www.24k.com.sg/contact-us.php}   \n",
              "1                {https://www.2c2p.com/contact.aspx}   \n",
              "2            {https://www.701search.com/contact-us/}   \n",
              "3     {https://www.acc-pro.com.sg/index.php/contact}   \n",
              "4  {https://www.acpcomputer.edu.sg/index.php/gene...   \n",
              "\n",
              "                      Email                             Name  \n",
              "0         {info@24k.com.sg}          https://www.24k.com.sg/  \n",
              "1                        {}            https://www.2c2p.com/  \n",
              "2                        {}       https://www.701search.com/  \n",
              "3                        {}      https://www.acc-pro.com.sg/  \n",
              "4  {dpo@acpcomputer.edu.sg}  https://www.acpcomputer.edu.sg/  "
            ]
          },
          "metadata": {
            "tags": []
          },
          "execution_count": 181
        }
      ]
    },
    {
      "metadata": {
        "id": "GTwP1l0FclyU",
        "colab_type": "code",
        "colab": {}
      },
      "cell_type": "code",
      "source": [
        ""
      ],
      "execution_count": 0,
      "outputs": []
    },
    {
      "metadata": {
        "id": "kmTe2hWC6P2W",
        "colab_type": "code",
        "colab": {}
      },
      "cell_type": "code",
      "source": [
        ""
      ],
      "execution_count": 0,
      "outputs": []
    }
  ]
}